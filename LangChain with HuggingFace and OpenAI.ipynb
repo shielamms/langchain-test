{
 "cells": [
  {
   "cell_type": "markdown",
   "id": "e729093a",
   "metadata": {},
   "source": [
    "# LangChain with HuggingFace and OpenAI"
   ]
  },
  {
   "cell_type": "code",
   "execution_count": 1,
   "id": "b899743e",
   "metadata": {},
   "outputs": [],
   "source": [
    "import os\n",
    "\n",
    "from langchain import (\n",
    "    LLMChain,\n",
    "    PromptTemplate,\n",
    ")"
   ]
  },
  {
   "cell_type": "markdown",
   "id": "2cfea35e",
   "metadata": {},
   "source": [
    "## Set the template"
   ]
  },
  {
   "cell_type": "code",
   "execution_count": 2,
   "id": "90ffb566",
   "metadata": {},
   "outputs": [],
   "source": [
    "template = \"\"\"How do you say '{phrase}' in {language}?\n",
    "\"\"\"\n",
    "\n",
    "prompt = PromptTemplate(template=template,\n",
    "                        input_variables=['phrase', 'language'])\n"
   ]
  },
  {
   "cell_type": "code",
   "execution_count": 17,
   "id": "0d22a876",
   "metadata": {},
   "outputs": [
    {
     "data": {
      "text/plain": [
       "\"How do you say 'I love brownies' in Spanish?\\n\""
      ]
     },
     "execution_count": 17,
     "metadata": {},
     "output_type": "execute_result"
    }
   ],
   "source": [
    "phrase = 'I love brownies'\n",
    "language = 'Spanish'\n",
    "\n",
    "prompt.format(phrase=phrase, language=language)"
   ]
  },
  {
   "cell_type": "markdown",
   "id": "f9e571bc",
   "metadata": {},
   "source": [
    "## LLMChain with HuggingFace models"
   ]
  },
  {
   "cell_type": "code",
   "execution_count": 4,
   "id": "f833e98d",
   "metadata": {},
   "outputs": [],
   "source": [
    "from langchain import HuggingFaceHub"
   ]
  },
  {
   "cell_type": "code",
   "execution_count": 5,
   "id": "07ba2f09",
   "metadata": {},
   "outputs": [],
   "source": [
    "os.environ['HUGGINGFACEHUB_API_TOKEN'] = os.environ.get('HF_ACCESS_TOKEN')"
   ]
  },
  {
   "cell_type": "code",
   "execution_count": 6,
   "id": "268c185f",
   "metadata": {},
   "outputs": [],
   "source": [
    "hub_llm = HuggingFaceHub(\n",
    "    repo_id='google/flan-t5-base',\n",
    "    model_kwargs={'temperature': 1e-10}\n",
    ")\n",
    "\n",
    "llm_chain = LLMChain(\n",
    "    llm=hub_llm,\n",
    "    prompt=prompt,\n",
    ")"
   ]
  },
  {
   "cell_type": "code",
   "execution_count": 18,
   "id": "c4813fe8",
   "metadata": {},
   "outputs": [
    {
     "data": {
      "text/plain": [
       "'\\n\"Me encantan los brownies\"'"
      ]
     },
     "execution_count": 18,
     "metadata": {},
     "output_type": "execute_result"
    }
   ],
   "source": [
    "llm_chain.run({'phrase': phrase, 'language': language})"
   ]
  },
  {
   "cell_type": "markdown",
   "id": "83318d89",
   "metadata": {},
   "source": [
    "## LLMChain with OpenAI models"
   ]
  },
  {
   "cell_type": "code",
   "execution_count": 8,
   "id": "80a6a283",
   "metadata": {},
   "outputs": [],
   "source": [
    "from langchain import OpenAI"
   ]
  },
  {
   "cell_type": "code",
   "execution_count": 9,
   "id": "8531f1a6",
   "metadata": {},
   "outputs": [],
   "source": [
    "api_key = os.environ.get('OPENAI_API_KEY')"
   ]
  },
  {
   "cell_type": "code",
   "execution_count": 19,
   "id": "20116c02",
   "metadata": {},
   "outputs": [],
   "source": [
    "openai_llm = OpenAI(\n",
    "    temperature=0,\n",
    "    openai_api_key=api_key,\n",
    "    model_name=\"text-davinci-003\"\n",
    ")\n",
    "\n",
    "llm_chain = LLMChain(\n",
    "    llm=openai_llm,\n",
    "    prompt=prompt,\n",
    ")"
   ]
  },
  {
   "cell_type": "code",
   "execution_count": 20,
   "id": "e2279d17",
   "metadata": {},
   "outputs": [
    {
     "data": {
      "text/plain": [
       "'\\n\"Me encantan los brownies\"'"
      ]
     },
     "execution_count": 20,
     "metadata": {},
     "output_type": "execute_result"
    }
   ],
   "source": [
    "llm_chain.run({'phrase': phrase, 'language': language})"
   ]
  },
  {
   "cell_type": "markdown",
   "id": "d2246fd8",
   "metadata": {},
   "source": [
    "## LLMChain with Conversational Memory"
   ]
  },
  {
   "cell_type": "code",
   "execution_count": 12,
   "id": "3375859b",
   "metadata": {},
   "outputs": [],
   "source": [
    "from langchain.chains import ConversationChain\n",
    "from langchain.chains.conversation.memory import ConversationBufferMemory"
   ]
  },
  {
   "cell_type": "code",
   "execution_count": 21,
   "id": "34c2f939",
   "metadata": {},
   "outputs": [],
   "source": [
    "openai_llm = OpenAI(\n",
    "    temperature=0,\n",
    "    openai_api_key=api_key,\n",
    "    model_name=\"text-davinci-003\"\n",
    ")\n",
    "\n",
    "conversation_buf = ConversationChain(\n",
    "    llm=openai_llm,\n",
    "    memory=ConversationBufferMemory()\n",
    ")"
   ]
  },
  {
   "cell_type": "code",
   "execution_count": 22,
   "id": "8d433065",
   "metadata": {},
   "outputs": [],
   "source": [
    "# Helper\n",
    "from langchain.callbacks import get_openai_callback\n",
    "\n",
    "def count_tokens(chain, query):\n",
    "    with get_openai_callback() as cb:\n",
    "        result = chain.run(query)\n",
    "        print(f'Spent a total of {cb.total_tokens} tokens')\n",
    "\n",
    "    return result"
   ]
  },
  {
   "cell_type": "code",
   "execution_count": 23,
   "id": "77e95a40",
   "metadata": {},
   "outputs": [
    {
     "name": "stdout",
     "output_type": "stream",
     "text": [
      "Spent a total of 128 tokens\n"
     ]
    },
    {
     "data": {
      "text/plain": [
       "\" That's a great question! It could be due to a few different reasons. It could be that you didn't use enough butter or oil, or that you overmixed the batter. It could also be that you cooked them for too long or at too high of a temperature.\""
      ]
     },
     "execution_count": 23,
     "metadata": {},
     "output_type": "execute_result"
    }
   ],
   "source": [
    "count_tokens(\n",
    "    conversation_buf, \n",
    "    \"What are possible reasons why my brownies are dry\"\n",
    ")"
   ]
  },
  {
   "cell_type": "code",
   "execution_count": 24,
   "id": "76adecc3",
   "metadata": {},
   "outputs": [
    {
     "name": "stdout",
     "output_type": "stream",
     "text": [
      "Spent a total of 178 tokens\n"
     ]
    },
    {
     "data": {
      "text/plain": [
       "\" The type of butter you need depends on the recipe you're using. Generally, you'll want to use unsalted butter, but some recipes may call for salted butter.\""
      ]
     },
     "execution_count": 24,
     "metadata": {},
     "output_type": "execute_result"
    }
   ],
   "source": [
    "count_tokens(\n",
    "    conversation_buf, \n",
    "    \"But what type of butter do I need?\"\n",
    ")"
   ]
  },
  {
   "cell_type": "code",
   "execution_count": 25,
   "id": "aa6bd4ca",
   "metadata": {},
   "outputs": [
    {
     "name": "stdout",
     "output_type": "stream",
     "text": [
      "Spent a total of 205 tokens\n"
     ]
    },
    {
     "data": {
      "text/plain": [
       "\" We're talking about possible reasons why your brownies are dry.\""
      ]
     },
     "execution_count": 25,
     "metadata": {},
     "output_type": "execute_result"
    }
   ],
   "source": [
    "count_tokens(\n",
    "    conversation_buf, \n",
    "    \"What are we talking about again?\"\n",
    ")"
   ]
  },
  {
   "cell_type": "code",
   "execution_count": null,
   "id": "bc5ba257",
   "metadata": {},
   "outputs": [],
   "source": []
  }
 ],
 "metadata": {
  "kernelspec": {
   "display_name": "Python 3 (ipykernel)",
   "language": "python",
   "name": "python3"
  },
  "language_info": {
   "codemirror_mode": {
    "name": "ipython",
    "version": 3
   },
   "file_extension": ".py",
   "mimetype": "text/x-python",
   "name": "python",
   "nbconvert_exporter": "python",
   "pygments_lexer": "ipython3",
   "version": "3.10.10"
  }
 },
 "nbformat": 4,
 "nbformat_minor": 5
}
